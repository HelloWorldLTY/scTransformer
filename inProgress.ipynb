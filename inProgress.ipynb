{
 "cells": [
  {
   "cell_type": "code",
   "execution_count": 1,
   "metadata": {
    "collapsed": true
   },
   "outputs": [],
   "source": [
    "import models.vits as vits"
   ]
  },
  {
   "cell_type": "code",
   "execution_count": 3,
   "outputs": [
    {
     "data": {
      "text/plain": "dict_keys(['__name__', '__doc__', '__package__', '__loader__', '__spec__', '__file__', '__cached__', '__builtins__', 'partial', 'torch', 'nn', 'trunc_normal_', 'test', 'drop_path', 'DropPath', 'Mlp', 'DINOHead', 'Attention', 'Block', 'VisionTransformerCat', 'VisionTransformerAdd', 'vit_cat', 'vit_add'])"
     },
     "execution_count": 3,
     "metadata": {},
     "output_type": "execute_result"
    }
   ],
   "source": [
    "vits.__dict__.keys()"
   ],
   "metadata": {
    "collapsed": false,
    "pycharm": {
     "name": "#%%\n"
    }
   }
  },
  {
   "cell_type": "code",
   "execution_count": 4,
   "outputs": [
    {
     "data": {
      "text/plain": "<function models.vits.vit_cat(gene_number=2000, gene_embed=128, expression_embed=128, depth=3, heads=2, **kwargs)>"
     },
     "execution_count": 4,
     "metadata": {},
     "output_type": "execute_result"
    }
   ],
   "source": [
    "vits.__dict__['vit_cat']"
   ],
   "metadata": {
    "collapsed": false,
    "pycharm": {
     "name": "#%%\n"
    }
   }
  },
  {
   "cell_type": "code",
   "execution_count": 1,
   "outputs": [],
   "source": [
    "import pandas as pd\n",
    "meta = pd.read_csv(\"/Users/jiaxinli/downloads/meta.csv\", index_col=0)"
   ],
   "metadata": {
    "collapsed": false,
    "pycharm": {
     "name": "#%%\n"
    }
   }
  },
  {
   "cell_type": "code",
   "execution_count": 2,
   "outputs": [
    {
     "data": {
      "text/plain": "                     orig.ident  nCount_RNA  nFeature_RNA  nCount_ADT  \\\na_AAACCTGAGCTTATCG-1     bmcite        7546          2136        1350   \na_AAACCTGAGGTGGGTT-1     bmcite        1029           437        2970   \na_AAACCTGAGTACATGA-1     bmcite        1111           429        2474   \na_AAACCTGCAAACCTAC-1     bmcite        2741           851        4799   \na_AAACCTGCAAGGTGTG-1     bmcite        2099           843        5434   \n...                         ...         ...           ...         ...   \nb_TTTGTCATCCGAGCCA-1     bmcite        3000           895        5403   \nb_TTTGTCATCCGTAGGC-1     bmcite        2230           649        4744   \nb_TTTGTCATCCTCGCAT-1     bmcite        4259          1457        6600   \nb_TTTGTCATCGCCGTGA-1     bmcite        2648           733        4939   \nb_TTTGTCATCGTTTGCC-1     bmcite        3405           886        3287   \n\n                      nFeature_ADT       lane   donor       celltype.l1  \\\na_AAACCTGAGCTTATCG-1            25  HumanHTO4  batch1  Progenitor cells   \na_AAACCTGAGGTGGGTT-1            25  HumanHTO1  batch1            T cell   \na_AAACCTGAGTACATGA-1            23  HumanHTO5  batch1            T cell   \na_AAACCTGCAAACCTAC-1            25  HumanHTO3  batch1            T cell   \na_AAACCTGCAAGGTGTG-1            25  HumanHTO2  batch1           Mono/DC   \n...                            ...        ...     ...               ...   \nb_TTTGTCATCCGAGCCA-1            25  HumanHTO8  batch2            T cell   \nb_TTTGTCATCCGTAGGC-1            25  HumanHTO9  batch2            T cell   \nb_TTTGTCATCCTCGCAT-1            25  HumanHTO6  batch2           Mono/DC   \nb_TTTGTCATCGCCGTGA-1            25  HumanHTO3  batch2            T cell   \nb_TTTGTCATCGTTTGCC-1            24  HumanHTO8  batch2            T cell   \n\n                     celltype.l2  RNA.weight  \na_AAACCTGAGCTTATCG-1    Prog_RBC    0.482701  \na_AAACCTGAGGTGGGTT-1         gdT    0.241789  \na_AAACCTGAGTACATGA-1   CD4 Naive    0.507714  \na_AAACCTGCAAACCTAC-1  CD4 Memory    0.431308  \na_AAACCTGCAAGGTGTG-1   CD14 Mono    0.568508  \n...                          ...         ...  \nb_TTTGTCATCCGAGCCA-1  CD4 Memory    0.296002  \nb_TTTGTCATCCGTAGGC-1   CD4 Naive    0.429053  \nb_TTTGTCATCCTCGCAT-1   CD16 Mono    0.506296  \nb_TTTGTCATCGCCGTGA-1   CD4 Naive    0.234427  \nb_TTTGTCATCGTTTGCC-1   CD8 Naive    0.274667  \n\n[30672 rows x 10 columns]",
      "text/html": "<div>\n<style scoped>\n    .dataframe tbody tr th:only-of-type {\n        vertical-align: middle;\n    }\n\n    .dataframe tbody tr th {\n        vertical-align: top;\n    }\n\n    .dataframe thead th {\n        text-align: right;\n    }\n</style>\n<table border=\"1\" class=\"dataframe\">\n  <thead>\n    <tr style=\"text-align: right;\">\n      <th></th>\n      <th>orig.ident</th>\n      <th>nCount_RNA</th>\n      <th>nFeature_RNA</th>\n      <th>nCount_ADT</th>\n      <th>nFeature_ADT</th>\n      <th>lane</th>\n      <th>donor</th>\n      <th>celltype.l1</th>\n      <th>celltype.l2</th>\n      <th>RNA.weight</th>\n    </tr>\n  </thead>\n  <tbody>\n    <tr>\n      <th>a_AAACCTGAGCTTATCG-1</th>\n      <td>bmcite</td>\n      <td>7546</td>\n      <td>2136</td>\n      <td>1350</td>\n      <td>25</td>\n      <td>HumanHTO4</td>\n      <td>batch1</td>\n      <td>Progenitor cells</td>\n      <td>Prog_RBC</td>\n      <td>0.482701</td>\n    </tr>\n    <tr>\n      <th>a_AAACCTGAGGTGGGTT-1</th>\n      <td>bmcite</td>\n      <td>1029</td>\n      <td>437</td>\n      <td>2970</td>\n      <td>25</td>\n      <td>HumanHTO1</td>\n      <td>batch1</td>\n      <td>T cell</td>\n      <td>gdT</td>\n      <td>0.241789</td>\n    </tr>\n    <tr>\n      <th>a_AAACCTGAGTACATGA-1</th>\n      <td>bmcite</td>\n      <td>1111</td>\n      <td>429</td>\n      <td>2474</td>\n      <td>23</td>\n      <td>HumanHTO5</td>\n      <td>batch1</td>\n      <td>T cell</td>\n      <td>CD4 Naive</td>\n      <td>0.507714</td>\n    </tr>\n    <tr>\n      <th>a_AAACCTGCAAACCTAC-1</th>\n      <td>bmcite</td>\n      <td>2741</td>\n      <td>851</td>\n      <td>4799</td>\n      <td>25</td>\n      <td>HumanHTO3</td>\n      <td>batch1</td>\n      <td>T cell</td>\n      <td>CD4 Memory</td>\n      <td>0.431308</td>\n    </tr>\n    <tr>\n      <th>a_AAACCTGCAAGGTGTG-1</th>\n      <td>bmcite</td>\n      <td>2099</td>\n      <td>843</td>\n      <td>5434</td>\n      <td>25</td>\n      <td>HumanHTO2</td>\n      <td>batch1</td>\n      <td>Mono/DC</td>\n      <td>CD14 Mono</td>\n      <td>0.568508</td>\n    </tr>\n    <tr>\n      <th>...</th>\n      <td>...</td>\n      <td>...</td>\n      <td>...</td>\n      <td>...</td>\n      <td>...</td>\n      <td>...</td>\n      <td>...</td>\n      <td>...</td>\n      <td>...</td>\n      <td>...</td>\n    </tr>\n    <tr>\n      <th>b_TTTGTCATCCGAGCCA-1</th>\n      <td>bmcite</td>\n      <td>3000</td>\n      <td>895</td>\n      <td>5403</td>\n      <td>25</td>\n      <td>HumanHTO8</td>\n      <td>batch2</td>\n      <td>T cell</td>\n      <td>CD4 Memory</td>\n      <td>0.296002</td>\n    </tr>\n    <tr>\n      <th>b_TTTGTCATCCGTAGGC-1</th>\n      <td>bmcite</td>\n      <td>2230</td>\n      <td>649</td>\n      <td>4744</td>\n      <td>25</td>\n      <td>HumanHTO9</td>\n      <td>batch2</td>\n      <td>T cell</td>\n      <td>CD4 Naive</td>\n      <td>0.429053</td>\n    </tr>\n    <tr>\n      <th>b_TTTGTCATCCTCGCAT-1</th>\n      <td>bmcite</td>\n      <td>4259</td>\n      <td>1457</td>\n      <td>6600</td>\n      <td>25</td>\n      <td>HumanHTO6</td>\n      <td>batch2</td>\n      <td>Mono/DC</td>\n      <td>CD16 Mono</td>\n      <td>0.506296</td>\n    </tr>\n    <tr>\n      <th>b_TTTGTCATCGCCGTGA-1</th>\n      <td>bmcite</td>\n      <td>2648</td>\n      <td>733</td>\n      <td>4939</td>\n      <td>25</td>\n      <td>HumanHTO3</td>\n      <td>batch2</td>\n      <td>T cell</td>\n      <td>CD4 Naive</td>\n      <td>0.234427</td>\n    </tr>\n    <tr>\n      <th>b_TTTGTCATCGTTTGCC-1</th>\n      <td>bmcite</td>\n      <td>3405</td>\n      <td>886</td>\n      <td>3287</td>\n      <td>24</td>\n      <td>HumanHTO8</td>\n      <td>batch2</td>\n      <td>T cell</td>\n      <td>CD8 Naive</td>\n      <td>0.274667</td>\n    </tr>\n  </tbody>\n</table>\n<p>30672 rows × 10 columns</p>\n</div>"
     },
     "execution_count": 2,
     "metadata": {},
     "output_type": "execute_result"
    }
   ],
   "source": [
    "meta"
   ],
   "metadata": {
    "collapsed": false,
    "pycharm": {
     "name": "#%%\n"
    }
   }
  }
 ],
 "metadata": {
  "kernelspec": {
   "display_name": "Python 3",
   "language": "python",
   "name": "python3"
  },
  "language_info": {
   "codemirror_mode": {
    "name": "ipython",
    "version": 2
   },
   "file_extension": ".py",
   "mimetype": "text/x-python",
   "name": "python",
   "nbconvert_exporter": "python",
   "pygments_lexer": "ipython2",
   "version": "2.7.6"
  }
 },
 "nbformat": 4,
 "nbformat_minor": 0
}